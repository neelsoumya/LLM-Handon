{
 "cells": [
  {
   "cell_type": "markdown",
   "metadata": {},
   "source": [
    "Basic chatbot to act as a clinician to diagnose clinical cases"
   ]
  },
  {
   "cell_type": "markdown",
   "metadata": {},
   "source": [
    "Load required libraries\n",
    "\n",
    "see the following URL\n",
    "https://docs.science.ai.cam.ac.uk/hands-on-llms/2_open_ai/\n",
    "\n"
   ]
  },
  {
   "cell_type": "code",
   "execution_count": 20,
   "metadata": {},
   "outputs": [],
   "source": [
    "from openai import OpenAI"
   ]
  },
  {
   "cell_type": "code",
   "execution_count": 21,
   "metadata": {},
   "outputs": [],
   "source": [
    "import os\n",
    "import dotenv\n",
    "from rich import print as rprint"
   ]
  },
  {
   "cell_type": "markdown",
   "metadata": {},
   "source": [
    "Call chatbot OpenAI API"
   ]
  },
  {
   "cell_type": "code",
   "execution_count": 22,
   "metadata": {},
   "outputs": [],
   "source": [
    "dotenv.load_dotenv()\n",
    "# load .env\n",
    "\n",
    "# get API KEY and store it in variable\n",
    "OPENAI_API_KEY = os.getenv('OPENAI_API_KEY')\n",
    "\n",
    "# call OpenAI function\n",
    "client = OpenAI()\n"
   ]
  },
  {
   "cell_type": "markdown",
   "metadata": {},
   "source": [
    "Call API"
   ]
  },
  {
   "cell_type": "code",
   "execution_count": 23,
   "metadata": {},
   "outputs": [
    {
     "name": "stdout",
     "output_type": "stream",
     "text": [
      "To determine a diagnosis for a patient presenting with chest pain, I would follow a systematic approach:\n",
      "\n",
      "### Step 1: History Taking\n",
      "\n",
      "1. **Character of Pain**: I would ask the patient to describe the nature of the chest pain. Is it sharp, dull, burning, or pressure-like? \n",
      "   - *For example, a \"squeezing\" or \"pressure\" sensation could suggest angina or myocardial infarction, while a sharp pain may suggest pleuritic causes or musculoskeletal origins.*\n",
      "\n",
      "2. **Location and Radiation**: I would inquire about the location of the pain and if it radiates to other areas like the arms, neck, jaw, or back.\n",
      "   - *For instance, pain that radiates to the left arm or jaw is often associated with cardiac issues.*\n",
      "\n",
      "3. **Duration and Onset**: Understanding when the pain started, how long it lasts, and whether it occurred suddenly or gradually is crucial.\n",
      "   - *Acute onset lasting more than 20 minutes could suggest acute coronary syndrome, while chronic or intermittent pain might indicate stable angina or other conditions.*\n",
      "\n",
      "4. **Associated Symptoms**: I would ask about any accompanying symptoms such as shortness of breath, sweating, nausea, dizziness, or palpitations.\n",
      "   - *Symptoms like nausea and sweating can indicate a cardiac event, while pleuritic chest pain may be associated with respiratory issues.*\n",
      "\n",
      "5. **Risk Factors**: Assessing risk factors for heart disease (age, gender, family history, hypertension, diabetes, smoking, hyperlipidemia, sedentary lifestyle) would help frame the risk of cardiovascular issues.\n",
      "   - *A 60-year-old male with a history of smoking and hypertension presenting with chest pain would be at higher risk for a cardiac event.*\n",
      "\n",
      "### Step 2: Physical Examination\n",
      "\n",
      "1. **Vital Signs**: I would check blood pressure, heart rate, respiratory rate, and oxygen saturation to assess stability and underlying pathology.\n",
      "2. **Cardiovascular Examination**: Listen for any abnormal heart sounds, murmurs, or signs of heart failure (e.g., JVD, edema).\n",
      "3. **Respiratory Examination**: Identify any signs of respiratory distress, rales, or diminished breath sounds.\n",
      "4. **Abdominal Examination**: Check for any referred pain or tenderness that might suggest gastrointestinal causes.\n",
      "\n",
      "### Step 3: Initial Diagnostic Testing\n",
      "\n",
      "Based on the history and physical exam findings, I would order several initial tests:\n",
      "\n",
      "1. **Electrocardiogram (ECG)**: To evaluate for ischemic changes, arrhythmias, or signs of myocardial infarction.\n",
      "2. **Cardiac Biomarkers**: Troponin levels would be drawn to assess for myocardial injury.\n",
      "3. **Chest X-ray**: To rule out conditions such as pneumonia, aortic dissection, or pneumothorax.\n",
      "4. **Basic Labs**: Including complete blood count (CBC), basic metabolic panel (BMP), lipid profile, and coagulation studies.\n",
      "\n",
      "### Step 4: Interpretation of Results\n",
      "\n",
      "1. If the ECG shows ST-segment elevation or depression, or if the troponin is elevated, it may indicate myocardial infarction or unstable angina.\n",
      "2. If the chest X-ray shows a widened mediastinum, an aortic dissection may be considered.\n",
      "3. Normal results with no history of risk factors might lead to musculoskeletal, gastrointestinal, or anxiety-related causes.\n",
      "\n",
      "### Step 5: Differential Diagnosis\n",
      "\n",
      "Creating a list of potential diagnoses based on the findings:\n",
      "- **Cardiac Causes**: (Acute myocardial infarction, angina, pericarditis, aortic dissection)\n",
      "- **Gastrointestinal Causes**: (Gastritis, esophageal spasm, peptic ulcer)\n",
      "- **Pulmonary Causes**: (Pulmonary embolism, pneumonia, pneumothorax)\n",
      "- **Musculoskeletal Causes**: (Costochondritis, rib fracture)\n",
      "\n",
      "### Conclusion\n",
      "\n",
      "After synthesizing all of this information, I would aim to arrive at the most likely diagnosis and plan management accordingly. If the acute myocardial infarction was suspected based on the findings, immediate treatment and possible admission would be indicated. If the pain was more consistent with musculoskeletal issues, conservative management and reassurance might be the route taken. \n",
      "\n",
      "### Follow-Up\n",
      "\n",
      "Consider follow-up with appropriate specialists (cardiology, gastroenterology, etc.) as needed based on the final diagnosis. \n",
      "\n",
      "In conclusion, the final diagnosis would highly depend on a combination of the history, physical examination findings, and results from the initial tests. Given the nature of the symptoms and findings, ongoing evaluation and monitoring would be essential.\n"
     ]
    }
   ],
   "source": [
    "system_prompt = \"You are a clinician and you are diagnosing cases. Given the prompt please give a diagnosis. Please explain all the steps in your reasoning process.\"\n",
    "user_query = \"A patient has come to you complaining about chest pain. Please give a diagnosis. Please explain all the steps.\"\n",
    "\n",
    "response = client.chat.completions.create(\n",
    "    model=\"gpt-4o-mini\",\n",
    "    messages=[\n",
    "        {\"role\":\"system\", \"content\":system_prompt},\n",
    "        {\"role\":\"user\", \"content\":user_query}\n",
    "    ],\n",
    "    max_tokens=1000\n",
    ")\n",
    "\n",
    "print(response.choices[0].message.content)\n"
   ]
  }
 ],
 "metadata": {
  "kernelspec": {
   "display_name": "Python 3",
   "language": "python",
   "name": "python3"
  },
  "language_info": {
   "codemirror_mode": {
    "name": "ipython",
    "version": 3
   },
   "file_extension": ".py",
   "mimetype": "text/x-python",
   "name": "python",
   "nbconvert_exporter": "python",
   "pygments_lexer": "ipython3",
   "version": "3.12.1"
  }
 },
 "nbformat": 4,
 "nbformat_minor": 2
}
