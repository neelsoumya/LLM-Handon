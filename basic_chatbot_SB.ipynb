{
 "cells": [
  {
   "cell_type": "markdown",
   "metadata": {},
   "source": [
    "Basic chatbot to act as a clinician to diagnose clinical cases"
   ]
  },
  {
   "cell_type": "markdown",
   "metadata": {},
   "source": [
    "Load required libraries\n",
    "\n",
    "see the following URL\n",
    "https://docs.science.ai.cam.ac.uk/hands-on-llms/2_open_ai/\n",
    "\n"
   ]
  },
  {
   "cell_type": "code",
   "execution_count": 51,
   "metadata": {},
   "outputs": [],
   "source": [
    "from openai import OpenAI"
   ]
  },
  {
   "cell_type": "code",
   "execution_count": 52,
   "metadata": {},
   "outputs": [],
   "source": [
    "import os\n",
    "import dotenv\n",
    "from rich import print as rprint"
   ]
  },
  {
   "cell_type": "markdown",
   "metadata": {},
   "source": [
    "Call chatbot OpenAI API"
   ]
  },
  {
   "cell_type": "code",
   "execution_count": 53,
   "metadata": {},
   "outputs": [],
   "source": [
    "dotenv.load_dotenv()\n",
    "# load .env\n",
    "\n",
    "# get API KEY and store it in variable\n",
    "OPENAI_API_KEY = os.getenv('OPENAI_API_KEY')\n",
    "\n",
    "# call OpenAI function\n",
    "client = OpenAI()\n"
   ]
  },
  {
   "cell_type": "markdown",
   "metadata": {},
   "source": [
    "Call API"
   ]
  },
  {
   "cell_type": "code",
   "execution_count": 54,
   "metadata": {},
   "outputs": [
    {
     "name": "stdout",
     "output_type": "stream",
     "text": [
      "To diagnose a patient presenting with chest pain, I would approach the situation systematically, considering both the potential seriousness of the condition and the detail of the patient's presentation. Here's how I would proceed:\n",
      "\n",
      "**1. Patient History:**\n",
      "   - First, I would take a thorough history from the patient, focusing on the character, duration, and severity of the chest pain. Key questions would include:\n",
      "     - Is the pain sharp, dull, or squeezing?\n",
      "     - How long does it last? Is it constant or intermittent?\n",
      "     - What were you doing when the pain started?\n",
      "     - Does it radiate anywhere (to the arm, jaw, back)?\n",
      "     - Have you had any previous episodes?\n",
      "     - Do you have any accompanying symptoms (e.g., sweating, nausea, shortness of breath, dizziness)?\n",
      "\n",
      "**2. Risk Factors:**\n",
      "   - Next, I would assess risk factors for cardiac disease, including:\n",
      "     - Age and sex (e.g., males over 45 and females over 55 are at higher risk).\n",
      "     - History of hypertension, diabetes, hyperlipidemia, or smoking.\n",
      "     - Family history of heart disease.\n",
      "     - Lifestyle factors like obesity, sedentary lifestyle, and diet choices.\n",
      "\n",
      "**3. Physical Examination:**\n",
      "   - A thorough physical exam would follow. I would check:\n",
      "     - Vital signs (heart rate, blood pressure, respiratory rate, and oxygen saturation).\n",
      "     - Heart sounds for any abnormalities (murmurs, gallops).\n",
      "     - Lung sounds for wheezing or crackles.\n",
      "     - Abdominal examination to rule out any gastrointestinal causes.\n",
      "     - Palpation of the chest to identify any tender areas.\n",
      "\n",
      "**4. Differential Diagnosis:**\n",
      "   - Based on the history and examination, I would create a differential diagnosis list. Potential causes of chest pain include:\n",
      "     - Cardiac: Angina, myocardial infarction (heart attack), pericarditis.\n",
      "     - Pulmonary: Pneumonia, pulmonary embolism, pneumothorax.\n",
      "     - Gastrointestinal: Gastroesophageal reflux disease (GERD), esophageal spasm, peptic ulcer.\n",
      "     - Musculoskeletal: Costochondritis, rib fracture, muscle strain.\n",
      "     - Anxiety or panic attacks.\n",
      "\n",
      "**5. Diagnostic Tests:**\n",
      "   - Depending on the initial findings, I’d order appropriate tests:\n",
      "     - An ECG to assess for signs of ischemia or arrhythmias.\n",
      "     - Blood tests including cardiac markers (troponin, CK-MB) to check for heart damage.\n",
      "     - Chest X-ray to evaluate pulmonary causes.\n",
      "     - Possibly a CT scan for further evaluation of the coronary arteries or other structures if indicated.\n",
      "\n",
      "**6. Final Diagnosis:**\n",
      "   - After gathering all this information, I would compile it to reach a final diagnosis. For example:\n",
      "     - If the ECG shows ST-segment elevation and the patient has elevated troponin levels, it would suggest an ST-elevation myocardial infarction (STEMI).\n",
      "     - If the patient has been under stress, with typical symptoms and no other findings, it might be angina or even a panic attack.\n",
      "\n",
      "**Conclusion:**\n",
      "- Based on clinical findings and testing, a definitive diagnosis would be established. In any case where there is doubt or if serious conditions such as an MI or pulmonary embolism are suspected, I would consider the need for immediate referral to emergency care for further evaluation and treatment.\n"
     ]
    }
   ],
   "source": [
    "system_prompt = \"You are a clinician and you are diagnosing cases. Given the prompt please give a diagnosis. Please explain all the steps in your reasoning process.\"\n",
    "user_query = \"A patient has come to you complaining about chest pain. Please give a diagnosis. Please explain all the steps.\"\n",
    "\n",
    "response = client.chat.completions.create(\n",
    "    model=\"gpt-4o-mini\",\n",
    "    messages=[\n",
    "        {\"role\":\"system\", \"content\":system_prompt},\n",
    "        {\"role\":\"user\", \"content\":user_query}\n",
    "    ],\n",
    "    max_tokens=1000 #,\n",
    "    #temperature=2\n",
    ")\n",
    "\n",
    "print(response.choices[0].message.content)\n"
   ]
  },
  {
   "cell_type": "markdown",
   "metadata": {},
   "source": [
    "Slightly improved version of chatbot with more clinical case information"
   ]
  },
  {
   "cell_type": "code",
   "execution_count": 55,
   "metadata": {},
   "outputs": [
    {
     "name": "stdout",
     "output_type": "stream",
     "text": [
      "Based on the provided clinical case, the diagnosis is **viral pericarditis**, likely due to Coxsackie virus infection. Here is the reasoning process that leads to this diagnosis:\n",
      "\n",
      "### Step 1: Assess the Symptoms\n",
      "- The patient is a 34-year-old male presenting with acute chest pain.\n",
      "- The pain is described as central and persistent for 4 hours, with radiation to both sides of the chest. His previous chest pains lasted only a few seconds and were not alarming in character.\n",
      "- The current pain is relieved by sitting up and leaning forward, which is characteristic of pericarditis rather than other cardiac causes, such as myocardial infarction (MI) or angina.\n",
      "- There are no associated symptoms of shortness of breath or palpitations, which also points away from classic cardiac ischemia.\n",
      "\n",
      "### Step 2: Consider Previous Medical History\n",
      "- The patient had a recent history of upper respiratory tract infection (URI), suggesting a potential viral etiology.\n",
      "- The history of occasional stabbing chest pain over two years raises the possibility of a recurrent problem which is now exacerbating.\n",
      "\n",
      "### Step 3: Evaluate the Current Clinical Examination\n",
      "- The patient's vital signs are stable, and he is afebrile, but he does have a slight fever (37.8°C).\n",
      "- Cardiovascular and respiratory examinations do not reveal abnormalities, reducing the likelihood of immediate cardiac failure or other acute respiratory causes.\n",
      "- The patient’s family history of myocardial infarction raises concern but does not fit the current presentation.\n",
      "\n",
      "### Step 4: Analyze Diagnostic Testing \n",
      "- An ECG shows ST-elevation that is concave upwards, which is typical for pericarditis rather than myocardial infarction, where ST-elevation is typically convex. \n",
      "- The raised troponin levels indicate some myocardial involvement, which can happen alongside pericarditis.\n",
      "- The elevated ESR (46) and raised white cell count indicate inflammation, supporting a diagnosis of pericarditis. \n",
      "- A chest X-ray is normal, ruling out other pulmonary causes or significant pericardial effusion.\n",
      "\n",
      "### Step 5: Consider Differential Diagnoses\n",
      "- Other possible causes of chest pain (such as myocardial infarction, aortic dissection, pulmonary embolism, or musculoskeletal pain) are less likely due to the pain characteristics and associated findings (ECG changes, response to positional changes).\n",
      "- The description of the pain, the familial cardiac history, and recent respiratory illness direct us toward pericarditis.\n",
      "\n",
      "### Step 6: Finalize Diagnosis \n",
      "Considering all the above points, particularly the relief of pain with certain positions, the recent URI, the characteristic ECG findings, and the inflammatory markers, the conclusion is that this patient has **viral pericarditis** caused by a likely recent viral infection (such as Coxsackie virus) following his upper respiratory infection. This explains the sequela of symptoms and laboratory findings observed.\n",
      "\n",
      "### Treatment Note\n",
      "The immediate management typically includes non-steroidal anti-inflammatory drugs (NSAIDs) for symptom relief, along with monitoring for any complications that may arise, though in this case, it is expected that symptoms will resolve with appropriate treatment.\n"
     ]
    }
   ],
   "source": [
    "# read in file with case\n",
    "f_str = open(\"master_prompt.txt\", \"r\")\n",
    "master_prompt = f_str.read()\n",
    "\n",
    "system_prompt = \"You are a clinician and you are diagnosing cases. Given the prompt please give a diagnosis. Please explain all the steps in your reasoning process.\"\n",
    "user_query = \"A patient has come to you complaining about chest pain. Please give a diagnosis. Please explain all the steps.\"\n",
    "user_query = user_query + master_prompt\n",
    "\n",
    "\n",
    "response = client.chat.completions.create(\n",
    "    model=\"gpt-4o-mini\",\n",
    "    messages=[\n",
    "        {\"role\":\"system\", \"content\":system_prompt},\n",
    "        {\"role\":\"user\", \"content\":user_query}\n",
    "    ],\n",
    "    max_tokens=1000 #,\n",
    "    #temperature=2\n",
    ")\n",
    "\n",
    "print(response.choices[0].message.content)\n"
   ]
  },
  {
   "cell_type": "code",
   "execution_count": null,
   "metadata": {},
   "outputs": [],
   "source": []
  }
 ],
 "metadata": {
  "kernelspec": {
   "display_name": "Python 3",
   "language": "python",
   "name": "python3"
  },
  "language_info": {
   "codemirror_mode": {
    "name": "ipython",
    "version": 3
   },
   "file_extension": ".py",
   "mimetype": "text/x-python",
   "name": "python",
   "nbconvert_exporter": "python",
   "pygments_lexer": "ipython3",
   "version": "3.12.1"
  }
 },
 "nbformat": 4,
 "nbformat_minor": 2
}
