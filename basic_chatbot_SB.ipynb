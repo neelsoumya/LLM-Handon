{
 "cells": [
  {
   "cell_type": "markdown",
   "metadata": {},
   "source": [
    "Basic chatbot to act as a clinician to diagnose clinical cases"
   ]
  },
  {
   "cell_type": "markdown",
   "metadata": {},
   "source": [
    "Load required libraries\n",
    "\n",
    "see the following URL\n",
    "https://docs.science.ai.cam.ac.uk/hands-on-llms/2_open_ai/\n",
    "\n"
   ]
  },
  {
   "cell_type": "code",
   "execution_count": 24,
   "metadata": {},
   "outputs": [],
   "source": [
    "from openai import OpenAI"
   ]
  },
  {
   "cell_type": "code",
   "execution_count": 25,
   "metadata": {},
   "outputs": [],
   "source": [
    "import os\n",
    "import dotenv\n",
    "from rich import print as rprint"
   ]
  },
  {
   "cell_type": "markdown",
   "metadata": {},
   "source": [
    "Call chatbot OpenAI API"
   ]
  },
  {
   "cell_type": "code",
   "execution_count": 26,
   "metadata": {},
   "outputs": [],
   "source": [
    "dotenv.load_dotenv()\n",
    "# load .env\n",
    "\n",
    "# get API KEY and store it in variable\n",
    "OPENAI_API_KEY = os.getenv('OPENAI_API_KEY')\n",
    "\n",
    "# call OpenAI function\n",
    "client = OpenAI()\n"
   ]
  },
  {
   "cell_type": "markdown",
   "metadata": {},
   "source": [
    "Call API"
   ]
  },
  {
   "cell_type": "code",
   "execution_count": 27,
   "metadata": {},
   "outputs": [
    {
     "name": "stdout",
     "output_type": "stream",
     "text": [
      "When evaluating a patient complaining of chest pain, it's essential to take a systematic approach. Here’s how I'd process this case:\n",
      "\n",
      "### Step 1: Obtain a Detailed Medical History\n",
      "- **Onset of Pain:** When did the pain start? Was it sudden or gradual?\n",
      "- **Nature of Pain:** Is the pain sharp, dull, burning, or squeezing? Does it feel like pressure?\n",
      "- **Location:** Where exactly is the pain located? Does it radiate to the arms, neck, back, or jaw?\n",
      "- **Duration:** How long does the pain last? Is it constant or intermittent?\n",
      "- **Aggravating/Relieving Factors:** What makes the pain worse (e.g., exertion, deep breaths, movement)? What relieves it (e.g., rest, medications)?\n",
      "- **Associated Symptoms:** Are there any accompanying symptoms such as shortness of breath, sweating, nausea, palpitations, or dizziness?\n",
      "- **Medical History:** Does the patient have any history of heart disease, lung issues, or gastrointestinal problems? Any recent trauma or infections?\n",
      "- **Risk Factors:** Does the patient have risk factors for coronary artery disease such as smoking, diabetes, hypertension, high cholesterol, or a family history of heart disease?\n",
      "\n",
      "### Step 2: Conduct a Physical Examination\n",
      "- **Vital Signs:** Check blood pressure, heart rate, respiratory rate, and temperature.\n",
      "- **Heart and Lung Examination:** Auscultate for any abnormal heart sounds (like murmurs) or lung sounds (like wheezing or crackles).\n",
      "- **Peripheral Signs:** Check for signs of poor circulation such as cyanosis or edema.\n",
      "\n",
      "### Step 3: Differential Diagnosis\n",
      "Based on the information gathered, I would create a list of possible diagnoses:\n",
      "1. **Cardiac Causes:**\n",
      "   - Acute Coronary Syndrome (ACS)\n",
      "     - Unstable angina\n",
      "     - Myocardial infarction\n",
      "   - Pericarditis\n",
      "   - Aortic dissection\n",
      "2. **Pulmonary Causes:**\n",
      "   - Pulmonary embolism\n",
      "   - Pneumonia or pleuritis\n",
      "3. **Gastrointestinal Causes:**\n",
      "   - Gastroesophageal reflux disease (GERD)\n",
      "   - Peptic ulcer disease or esophageal spasm\n",
      "4. **Musculoskeletal Causes:**\n",
      "   - Costochondritis or rib fracture\n",
      "   - Muscle strain\n",
      "5. **Psychogenic Causes:**\n",
      "   - Panic attack or anxiety disorder\n",
      "\n",
      "### Step 4: Diagnostic Testing\n",
      "Based on the patient's presentation and the differential diagnoses, I would order appropriate tests, including:\n",
      "- **Electrocardiogram (ECG):** To assess for arrhythmias or ischemic changes.\n",
      "- **Chest X-Ray:** To check for lung-related issues or aortic pathology.\n",
      "- **Blood Tests:** Including cardiac biomarkers (troponin levels) to evaluate for myocardial damage, and a complete blood count and basic metabolic panel.\n",
      "- **CT Angiography of the Chest:** If pulmonary embolism or dissection is suspected.\n",
      "\n",
      "### Step 5: Final Diagnosis\n",
      "Once the results from the tests are reviewed and correlated with the clinical findings, I'll arrive at a final diagnosis. For instance, if I find elevated troponin levels and ST-segment changes on ECG, I would diagnose the patient with an acute myocardial infarction. Alternatively, if the lung scan shows a significant pulmonary embolism, that would be the diagnosis.\n",
      "\n",
      "### Conclusion\n",
      "In clinical practice, the diagnosis of chest pain often requires immediate attention to rule out life-threatening conditions like myocardial infarction and pulmonary embolism. A thorough history, physical examination, and appropriate investigations are crucial in accurately diagnosing the underlying cause of chest pain.\n"
     ]
    }
   ],
   "source": [
    "system_prompt = \"You are a clinician and you are diagnosing cases. Given the prompt please give a diagnosis. Please explain all the steps in your reasoning process.\"\n",
    "user_query = \"A patient has come to you complaining about chest pain. Please give a diagnosis. Please explain all the steps.\"\n",
    "\n",
    "response = client.chat.completions.create(\n",
    "    model=\"gpt-4o-mini\",\n",
    "    messages=[\n",
    "        {\"role\":\"system\", \"content\":system_prompt},\n",
    "        {\"role\":\"user\", \"content\":user_query}\n",
    "    ],\n",
    "    max_tokens=1000\n",
    ")\n",
    "\n",
    "print(response.choices[0].message.content)\n"
   ]
  }
 ],
 "metadata": {
  "kernelspec": {
   "display_name": "Python 3",
   "language": "python",
   "name": "python3"
  },
  "language_info": {
   "codemirror_mode": {
    "name": "ipython",
    "version": 3
   },
   "file_extension": ".py",
   "mimetype": "text/x-python",
   "name": "python",
   "nbconvert_exporter": "python",
   "pygments_lexer": "ipython3",
   "version": "3.12.1"
  }
 },
 "nbformat": 4,
 "nbformat_minor": 2
}
