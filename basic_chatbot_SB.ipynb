{
 "cells": [
  {
   "cell_type": "markdown",
   "metadata": {},
   "source": [
    "Basic chatbot to act as a clinician to diagnose clinical cases"
   ]
  },
  {
   "cell_type": "markdown",
   "metadata": {},
   "source": [
    "Load required libraries\n",
    "\n",
    "see the following URL\n",
    "https://docs.science.ai.cam.ac.uk/hands-on-llms/2_open_ai/\n",
    "\n"
   ]
  },
  {
   "cell_type": "code",
   "execution_count": 16,
   "metadata": {},
   "outputs": [],
   "source": [
    "from openai import OpenAI"
   ]
  },
  {
   "cell_type": "code",
   "execution_count": 17,
   "metadata": {},
   "outputs": [],
   "source": [
    "import os\n",
    "import dotenv\n",
    "from rich import print as rprint"
   ]
  },
  {
   "cell_type": "markdown",
   "metadata": {},
   "source": [
    "Call chatbot OpenAI API"
   ]
  },
  {
   "cell_type": "code",
   "execution_count": 18,
   "metadata": {},
   "outputs": [],
   "source": [
    "dotenv.load_dotenv()\n",
    "# load .env\n",
    "\n",
    "# get API KEY and store it in variable\n",
    "OPENAI_API_KEY = os.getenv('OPENAI_API_KEY')\n",
    "\n",
    "# call OpenAI function\n",
    "client = OpenAI()\n"
   ]
  },
  {
   "cell_type": "markdown",
   "metadata": {},
   "source": [
    "Call API"
   ]
  },
  {
   "cell_type": "code",
   "execution_count": 19,
   "metadata": {},
   "outputs": [
    {
     "name": "stdout",
     "output_type": "stream",
     "text": [
      "When diagnosing a patient presenting with chest pain, I need to systematically evaluate the situation using a structured approach. Here are the steps I would take in diagnosing this case:\n",
      "\n",
      "### Step 1: Initial Assessment\n",
      "- **History Taking**: I would gather a detailed history from the patient, asking questions about:\n",
      "  - The nature of the chest pain (sharp, dull, oppressive, burning, etc.)\n",
      "  - The location (central, left-sided, radiating to other areas like arm, jaw, back)\n",
      "  - Duration and frequency of the pain\n",
      "  - Triggers or relieving factors (e.g., exertion, deep breathing, eating)\n",
      "  - Associated symptoms (e.g., shortness of breath, sweating, nausea, palpitations)\n",
      "  - Past medical history, including history of heart disease, hypertension, diabetes, or prior episodes of similar pain.\n",
      "  - Family history of cardiac diseases.\n",
      "  - Lifestyle factors (e.g., smoking, exercise, diet).\n",
      "  \n",
      "### Step 2: Physical Examination\n",
      "- Conduct a thorough physical examination focusing on:\n",
      "  - Vital signs (heart rate, blood pressure, respiratory rate, temperature)\n",
      "  - Observing the patient’s appearance (e.g., distress, pallor, diaphoresis)\n",
      "  - Cardiovascular examination (heart sounds, presence of murmurs or gallops)\n",
      "  - Respiratory examination (breathing sounds, any signs of respiratory distress)\n",
      "  - Abdominal examination (to rule out gastrointestinal causes of chest pain).\n",
      "\n",
      "### Step 3: Differentiating Potential Causes\n",
      "Based on the initial assessment and physical examination findings, I would consider various differentials for chest pain, which can broadly be categorized into:\n",
      "\n",
      "1. **Cardiac Causes**:\n",
      "   - Myocardial infarction (heart attack)\n",
      "   - Angina (stable or unstable)\n",
      "   - Pericarditis\n",
      "   - Aortic dissection\n",
      "\n",
      "2. **Respiratory Causes**:\n",
      "   - Pulmonary embolism\n",
      "   - Pneumothorax\n",
      "   - Pneumonia\n",
      "   - Pleural effusion\n",
      "\n",
      "3. **Gastrointestinal Causes**:\n",
      "   - Gastroesophageal reflux disease (GERD)\n",
      "   - Esophageal spasm\n",
      "   - Peptic ulcer disease\n",
      "   - Pancreatitis\n",
      "\n",
      "4. **Musculoskeletal Causes**:\n",
      "   - Costochondritis\n",
      "   - Rib fractures\n",
      "   - Muscle strains\n",
      "\n",
      "5. **Other Causes**:\n",
      "   - Anxiety or panic attacks\n",
      "   - Shingles (herpes zoster) if there’s a rash or history\n",
      "\n",
      "### Step 4: Diagnostic Tests\n",
      "To further narrow down the diagnosis, I would order further investigations based on the patient’s presentation:\n",
      "- **Electrocardiogram (ECG)**: To assess for any signs of ischemia or arrhythmias.\n",
      "- **Chest X-ray**: To look for any lung pathology, fractures, or signs of heart failure.\n",
      "- **Blood tests**: Including cardiac enzymes (Troponin I or T), complete blood count, and electrolyte panel to assess potential causes.\n",
      "- **Chest CT (if indicated)**: Particularly useful in suspected pulmonary embolism or aortic dissection.\n",
      "\n",
      "### Step 5: Formulating Diagnosis\n",
      "- If the ECG shows ST elevation or significant changes along with elevated cardiac enzymes, the likely diagnosis may be myocardial infarction.\n",
      "- If there's normal ECG and no rise in cardiac markers, but the history suggests exertional pain relieved by rest, it may indicate angina.\n",
      "- If the pain is sharp and worsens with breathing, pleuritic pain might point towards a respiratory cause like pleuritis or pneumothorax.\n",
      "- If the patient has gastrointestinal symptoms, this may push the diagnosis toward GERD or other GI causes.\n",
      "\n",
      "### Conclusion and Management\n",
      "Once the diagnosis is established based on the findings from history, physical examination, and investigations, I would proceed with appropriate management. \n",
      "\n",
      "This management plan could include:\n",
      "- Immediate interventions for cardiac conditions (nitroglycerin, aspirin, or referral to the emergency department).\n",
      "- Gastrointestinal treatment with antacids or referral for further GI evaluation.\n",
      "- Providing reassurance and/or anxiety management in cases of panic disorders.\n",
      "\n",
      "In summary, the thorough evaluation of the patient presenting with chest pain using history, physical exam, differential diagnosis consideration, and appropriate tests is crucial in arriving at a correct diagnosis and guiding treatment.\n"
     ]
    }
   ],
   "source": [
    "system_prompt = \"You are a clinician and you are diagnosing cases. Given the prompt please give a diagnosis. Please explain all the steps in your reasoning process.\"\n",
    "user_query = \"A patient has come to you complaining about chest pain. Please give a diagnosis. Please explain all the steps.\"\n",
    "\n",
    "response = client.chat.completions.create(\n",
    "    model=\"gpt-4o-mini\",\n",
    "    messages=[\n",
    "        {\"role\":\"system\", \"content\":system_prompt},\n",
    "        {\"role\":\"user\", \"content\":user_query}\n",
    "    ],\n",
    "    max_tokens=1000\n",
    ")\n",
    "\n",
    "print(response.choices[0].message.content)\n"
   ]
  }
 ],
 "metadata": {
  "kernelspec": {
   "display_name": "Python 3",
   "language": "python",
   "name": "python3"
  },
  "language_info": {
   "codemirror_mode": {
    "name": "ipython",
    "version": 3
   },
   "file_extension": ".py",
   "mimetype": "text/x-python",
   "name": "python",
   "nbconvert_exporter": "python",
   "pygments_lexer": "ipython3",
   "version": "3.12.1"
  }
 },
 "nbformat": 4,
 "nbformat_minor": 2
}
