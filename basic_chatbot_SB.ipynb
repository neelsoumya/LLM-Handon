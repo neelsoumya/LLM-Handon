{
 "cells": [
  {
   "cell_type": "markdown",
   "metadata": {},
   "source": [
    "Basic chatbot to act as a clinician to diagnose clinical cases"
   ]
  },
  {
   "cell_type": "markdown",
   "metadata": {},
   "source": [
    "Load required libraries\n",
    "\n",
    "see the following URL\n",
    "https://docs.science.ai.cam.ac.uk/hands-on-llms/2_open_ai/\n",
    "\n"
   ]
  },
  {
   "cell_type": "code",
   "execution_count": 32,
   "metadata": {},
   "outputs": [],
   "source": [
    "from openai import OpenAI"
   ]
  },
  {
   "cell_type": "code",
   "execution_count": 33,
   "metadata": {},
   "outputs": [],
   "source": [
    "import os\n",
    "import dotenv\n",
    "from rich import print as rprint"
   ]
  },
  {
   "cell_type": "markdown",
   "metadata": {},
   "source": [
    "Call chatbot OpenAI API"
   ]
  },
  {
   "cell_type": "code",
   "execution_count": 34,
   "metadata": {},
   "outputs": [],
   "source": [
    "dotenv.load_dotenv()\n",
    "# load .env\n",
    "\n",
    "# get API KEY and store it in variable\n",
    "OPENAI_API_KEY = os.getenv('OPENAI_API_KEY')\n",
    "\n",
    "# call OpenAI function\n",
    "client = OpenAI()\n"
   ]
  },
  {
   "cell_type": "markdown",
   "metadata": {},
   "source": [
    "Call API"
   ]
  },
  {
   "cell_type": "code",
   "execution_count": 35,
   "metadata": {},
   "outputs": [
    {
     "name": "stdout",
     "output_type": "stream",
     "text": [
      "To diagnose a patient presenting with chest pain, I would follow a structured approach to gather relevant details and rule out potential diagnoses. The steps include:\n",
      "\n",
      "1. **Patient History**:\n",
      "   - **Onset**: When did the chest pain start? Was it sudden or gradual?\n",
      "   - **Location**: Where is the pain located? Does it radiate to other areas (e.g., arms, neck, back, jaw)?\n",
      "   - **Character**: What is the nature of the pain? (e.g., sharp, dull, crushing, burning).\n",
      "   - **Duration**: How long does the pain last? Is it constant or intermittent?\n",
      "   - **Triggers**: What causes the pain? (e.g., physical activity, deep breathing, stress).\n",
      "   - **Associated Symptoms**: Are there any accompanying symptoms such as shortness of breath, sweating, nausea, palpitations, or dizziness?\n",
      "\n",
      "2. **Medical History**:\n",
      "   - Review the patient’s medical history for any relevant conditions (e.g., previous heart disease, hypertension, diabetes).\n",
      "   - Consider family history of cardiovascular disease.\n",
      "   - Evaluate lifestyle factors (e.g., smoking, exercise, diet).\n",
      "\n",
      "3. **Physical Examination**:\n",
      "   - Conduct a thorough physical exam, focusing on vital signs (blood pressure, heart rate, respiratory rate).\n",
      "   - Listen to the heart and lungs for abnormal sounds (e.g., murmurs, wheezes).\n",
      "   - Check for signs of distress, pallor, or diaphoresis.\n",
      "\n",
      "4. **Differential Diagnosis**:\n",
      "   Based on the findings from the history and physical exam, create a list of potential diagnoses. Common chest pain differentials include:\n",
      "   - **Cardiac Causes**: Angina, myocardial infarction (heart attack), pericarditis.\n",
      "   - **Pulmonary Causes**: Pulmonary embolism, pneumonia, pleuritis.\n",
      "   - **Gastrointestinal Causes**: Gastroesophageal reflux disease (GERD), peptic ulcer disease.\n",
      "   - **Musculoskeletal Causes**: Costochondritis, muscle strain.\n",
      "   - **Psychogenic Causes**: Panic attack, anxiety disorders.\n",
      "\n",
      "5. **Diagnostic Tests**:\n",
      "   - Order appropriate tests to help confirm or rule out potential diagnoses:\n",
      "     - **Electrocardiogram (ECG)**: To check for signs of ischemia or previous infarction.\n",
      "     - **Blood tests**: Including cardiac enzymes (troponins) to assess for myocardial damage.\n",
      "     - **Chest X-ray**: To evaluate for lung pathology or abnormalities in the chest cavity.\n",
      "     - Depending on the initial assessment, consider further imaging like echocardiography or CT scan.\n",
      "\n",
      "6. **Management**:\n",
      "   - Initiate treatment based on the most likely diagnosis. For instance, if the patient is experiencing a myocardial infarction, immediate intervention (e.g., medication, angioplasty) is necessary.\n",
      "   - For non-cardiac causes, address the underlying issue (e.g., provide antacids for GERD or a pain management plan for musculoskeletal issues).\n",
      "\n",
      "7. **Follow-up**:\n",
      "   - Schedule a follow-up to reassess the patient's condition, response to treatment, and further management.\n",
      "\n",
      "Based on the information provided, if I had sufficient data indicating that the patient’s chest pain was typical for angina (e.g., triggered by exertion, relieved by rest), I might lean toward a diagnosis of angina. If the pain was severe, sudden, and associated with risk factors like history of heart disease, the most urgent diagnosis to consider would be a myocardial infarction. However, a definitive diagnosis would depend on the findings from the described steps in history, physical examination, and diagnostic testing.\n"
     ]
    }
   ],
   "source": [
    "system_prompt = \"You are a clinician and you are diagnosing cases. Given the prompt please give a diagnosis. Please explain all the steps in your reasoning process.\"\n",
    "user_query = \"A patient has come to you complaining about chest pain. Please give a diagnosis. Please explain all the steps.\"\n",
    "\n",
    "response = client.chat.completions.create(\n",
    "    model=\"gpt-4o-mini\",\n",
    "    messages=[\n",
    "        {\"role\":\"system\", \"content\":system_prompt},\n",
    "        {\"role\":\"user\", \"content\":user_query}\n",
    "    ],\n",
    "    max_tokens=1000 #,\n",
    "    #temperature=2\n",
    ")\n",
    "\n",
    "print(response.choices[0].message.content)\n"
   ]
  }
 ],
 "metadata": {
  "kernelspec": {
   "display_name": "Python 3",
   "language": "python",
   "name": "python3"
  },
  "language_info": {
   "codemirror_mode": {
    "name": "ipython",
    "version": 3
   },
   "file_extension": ".py",
   "mimetype": "text/x-python",
   "name": "python",
   "nbconvert_exporter": "python",
   "pygments_lexer": "ipython3",
   "version": "3.12.1"
  }
 },
 "nbformat": 4,
 "nbformat_minor": 2
}
